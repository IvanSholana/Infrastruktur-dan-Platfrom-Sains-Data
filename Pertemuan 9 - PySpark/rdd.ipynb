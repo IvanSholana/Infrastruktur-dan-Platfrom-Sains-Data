{
 "cells": [
  {
   "cell_type": "code",
   "execution_count": 1,
   "metadata": {},
   "outputs": [],
   "source": [
    "import os\n",
    "\n",
    "os.environ['SPARK_HOME'] = r\"C:\\Windows\\Spark\"\n",
    "os.environ['PYSPARK_DRIVER_PYTHON'] = 'jupyter'\n",
    "os.environ['PYSPARK_DRIVER_PYTHON_OPTS'] = 'notebook'\n",
    "os.environ['PYSPARK_PYTHON'] = 'python'\n",
    "\n",
    "# spark.stop()"
   ]
  },
  {
   "cell_type": "code",
   "execution_count": 2,
   "metadata": {},
   "outputs": [],
   "source": [
    "from pyspark.sql import SparkSession\n",
    "\n",
    "# Mendeklarasikan objek SparkSession\n",
    "spark = SparkSession.builder.appName('PySpark-Get-Started').getOrCreate()\n",
    "\n",
    "# Membuat RDD dari list\n",
    "data = [10, 20, 30, 40, 50]\n",
    "rdd = spark.sparkContext.parallelize(data)"
   ]
  },
  {
   "cell_type": "code",
   "execution_count": 3,
   "metadata": {},
   "outputs": [
    {
     "name": "stdout",
     "output_type": "stream",
     "text": [
      "Data RDD (collect): [10, 20, 30, 40, 50]\n"
     ]
    }
   ],
   "source": [
    "print(\"Data RDD (collect):\", rdd.collect())"
   ]
  },
  {
   "cell_type": "code",
   "execution_count": 4,
   "metadata": {},
   "outputs": [
    {
     "name": "stdout",
     "output_type": "stream",
     "text": [
      "3 elemen pertama RDD (take): [10, 20, 30]\n"
     ]
    }
   ],
   "source": [
    "# Mengambil n elemen pertama dari RDD\n",
    "print(\"3 elemen pertama RDD (take):\", rdd.take(3))"
   ]
  },
  {
   "cell_type": "code",
   "execution_count": 12,
   "metadata": {},
   "outputs": [
    {
     "name": "stdout",
     "output_type": "stream",
     "text": [
      "[20, 40, 60, 80, 100]\n"
     ]
    }
   ],
   "source": [
    "# 1. Transformasi: Mengalikan setiap elemen dengan 2\n",
    "rdd_transformed = rdd.map(lambda x: x * 2)\n",
    "\n",
    "print(rdd_transformed.collect())"
   ]
  },
  {
   "cell_type": "code",
   "execution_count": 6,
   "metadata": {},
   "outputs": [],
   "source": [
    "# 2. Filter: Memilih elemen yang lebih besar dari 5\n",
    "rdd_filtered = rdd_transformed.filter(lambda x: x > 5)"
   ]
  },
  {
   "cell_type": "code",
   "execution_count": 7,
   "metadata": {},
   "outputs": [
    {
     "name": "stdout",
     "output_type": "stream",
     "text": [
      "Hasil setelah transformasi dan filter: [20, 40, 60, 80, 100]\n"
     ]
    }
   ],
   "source": [
    "# 3. Aksi: Mengumpulkan hasil\n",
    "result = rdd_filtered.collect()\n",
    "print(\"Hasil setelah transformasi dan filter:\", result)"
   ]
  },
  {
   "cell_type": "code",
   "execution_count": 8,
   "metadata": {},
   "outputs": [
    {
     "name": "stdout",
     "output_type": "stream",
     "text": [
      "Jumlah elemen setelah filter: 5\n"
     ]
    }
   ],
   "source": [
    "# 4. Menghitung jumlah elemen\n",
    "count = rdd_filtered.count()\n",
    "print(\"Jumlah elemen setelah filter:\", count)"
   ]
  },
  {
   "cell_type": "code",
   "execution_count": 9,
   "metadata": {},
   "outputs": [
    {
     "name": "stdout",
     "output_type": "stream",
     "text": [
      "Total penjumlahan elemen RDD: 150\n"
     ]
    }
   ],
   "source": [
    "# 5. Menggabungkan elemen dengan reduce (penjumlahan)\n",
    "sum_result = rdd.reduce(lambda x, y: x + y)\n",
    "print(\"Total penjumlahan elemen RDD:\", sum_result)"
   ]
  },
  {
   "cell_type": "code",
   "execution_count": 10,
   "metadata": {},
   "outputs": [
    {
     "name": "stdout",
     "output_type": "stream",
     "text": [
      "Pasangan (key, value): [(0, 10), (0, 20), (0, 30), (0, 40), (0, 50)]\n"
     ]
    }
   ],
   "source": [
    "# 6. Membagi data menjadi pasangan (key, value)\n",
    "rdd_pairs = rdd.map(lambda x: (x % 2, x))  # Key: Genap/Ganjil, Value: Elemen\n",
    "print(\"Pasangan (key, value):\", rdd_pairs.collect())"
   ]
  },
  {
   "cell_type": "code",
   "execution_count": 11,
   "metadata": {},
   "outputs": [
    {
     "name": "stdout",
     "output_type": "stream",
     "text": [
      "Total berdasarkan key (genap/ganjil): [(0, 150)]\n"
     ]
    }
   ],
   "source": [
    "# 7. Menghitung total berdasarkan key (genap/ganjil)\n",
    "rdd_reduced = rdd_pairs.reduceByKey(lambda x, y: x + y)\n",
    "print(\"Total berdasarkan key (genap/ganjil):\", rdd_reduced.collect())"
   ]
  }
 ],
 "metadata": {
  "kernelspec": {
   "display_name": "pyspark",
   "language": "python",
   "name": "python3"
  },
  "language_info": {
   "codemirror_mode": {
    "name": "ipython",
    "version": 3
   },
   "file_extension": ".py",
   "mimetype": "text/x-python",
   "name": "python",
   "nbconvert_exporter": "python",
   "pygments_lexer": "ipython3",
   "version": "3.9.18"
  }
 },
 "nbformat": 4,
 "nbformat_minor": 2
}
